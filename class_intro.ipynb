{
 "cells": [
  {
   "cell_type": "markdown",
   "metadata": {},
   "source": [
    "#### Class\n",
    "- It is a blueprint or template for creating objects.\n",
    "- It defines a set of attributes (variables) and methods (functions) that the objects of the class will have. "
   ]
  },
  {
   "cell_type": "code",
   "execution_count": null,
   "metadata": {},
   "outputs": [],
   "source": [
    "class Intro:\n",
    "  x=5\n",
    "  def sum(self,u,y):\n",
    "    add=u+y\n",
    "    return add\n",
    "obj1=Intro()\n",
    "obj2=Intro()\n",
    "print(f\"x is {obj2.x}\")\n",
    "cv=obj1.sum(45,5)\n",
    "print(f\"the sum is {cv}\")"
   ]
  },
  {
   "cell_type": "markdown",
   "metadata": {},
   "source": [
    "#### __init__ method(Constructor)\n",
    "- It is automatically called when objects of class is created\n",
    "- Purpose is to initialize attributes of the objects\n"
   ]
  },
  {
   "cell_type": "code",
   "execution_count": null,
   "metadata": {},
   "outputs": [],
   "source": [
    "class Person:\n",
    "  def __init__(self, name, age):\n",
    "    self.name = name\n",
    "    self.age = age\n",
    "\n",
    "p1 = Person(\"John\", 36)\n",
    "\n",
    "print(p1.name)\n",
    "print(p1.age)"
   ]
  },
  {
   "cell_type": "code",
   "execution_count": null,
   "metadata": {},
   "outputs": [],
   "source": [
    "class Car:\n",
    "    def __init__(self, make, model, year):\n",
    "        self.make = make\n",
    "        self.model = model\n",
    "        self.year = year\n",
    "\n",
    "my_car = Car(\"Toyota\", \"Camry\", 2022)\n",
    "print(my_car.make)   # Output: \"Toyota\""
   ]
  },
  {
   "cell_type": "markdown",
   "metadata": {},
   "source": [
    "#### Self\n",
    "- Parameter name that rep instance of a class.\n",
    "- it is the 1st parameter of any instance methods\n",
    "- Purpose is to reference and access the attributes and methods of the object within the class.\n",
    "-  Also allows you to access attributes and methods of the class, including those defined in the constructor an methods within other methods ."
   ]
  },
  {
   "cell_type": "markdown",
   "metadata": {},
   "source": [
    "***Difference of using and not using self***"
   ]
  },
  {
   "cell_type": "code",
   "execution_count": null,
   "metadata": {},
   "outputs": [],
   "source": [
    "class MyClass:\n",
    "    def __init__(self, attribute):\n",
    "        self.attribute = attribute\n",
    "\n",
    "    def get_attribute(self):\n",
    "        return self.attribute\n",
    "\n",
    "my_object = MyClass(\"Value\")\n",
    "print(my_object.get_attribute())  # Output: \"Value\""
   ]
  },
  {
   "cell_type": "code",
   "execution_count": null,
   "metadata": {},
   "outputs": [],
   "source": [
    "class Person:\n",
    "    def __init__(self, name, age):\n",
    "        self.name = name\n",
    "        self.age = age\n",
    "\n",
    "    def introduce(self):\n",
    "        print(f\"My name is {self.name} and I am {self.age} years old.\")\n",
    "\n",
    "\n",
    "person1 = Person(\"Alice\", 25)\n",
    "person2 = Person(\"Bob\", 30)\n",
    "\n",
    "person1.introduce()  # Output: My name is Alice and I am 25 years old."
   ]
  },
  {
   "cell_type": "markdown",
   "metadata": {},
   "source": [
    "- The __init__() method takes name and age as parameters and initializes the name and age attributes of the object using self.name and self.age.\n",
    "\n",
    "- The introduce() method uses self.name and self.age to access the attributes of the object and prints a formatted string introducing the person.\n",
    "\n",
    "- We create two instances of the Person class: person1 and person2. Each instance has its own name and age attributes.\n",
    "\n",
    "- When we call person1.introduce(), it accesses the name and age attributes specific to person1 and prints the introduction accordingly."
   ]
  },
  {
   "cell_type": "code",
   "execution_count": null,
   "metadata": {},
   "outputs": [],
   "source": [
    "class Person:\n",
    "  def __init__(self, name, age):\n",
    "    self.name = name\n",
    "    self.age = age\n",
    "\n",
    "p1 = Person(\"John\", 36)\n",
    "\n",
    "print(p1)# outputs class name and object memory address"
   ]
  },
  {
   "cell_type": "markdown",
   "metadata": {},
   "source": [
    "#### __str__()\n",
    "- Used to counter the effects above☝👆👆👆\n",
    "- It controls what should be returned when the class object is represented as a string."
   ]
  },
  {
   "cell_type": "code",
   "execution_count": null,
   "metadata": {},
   "outputs": [],
   "source": [
    "class Person:\n",
    "  def __init__(self, name, age):\n",
    "    self.name = name\n",
    "    self.age = age\n",
    "\n",
    "  def __str__(self):\n",
    "    return f\"{self.name}({self.age})\"\n",
    "\n",
    "p1 = Person(\"John\", 36)\n",
    "\n",
    "print(p1)"
   ]
  },
  {
   "cell_type": "markdown",
   "metadata": {},
   "source": [
    "### Inheritance\n",
    "- To create a class that inherits the functionality from another class, send the parent class as a parameter when creating the child class:"
   ]
  },
  {
   "cell_type": "code",
   "execution_count": null,
   "metadata": {},
   "outputs": [],
   "source": [
    "class Car:\n",
    "    def __init__(self, make, model, year):\n",
    "        self.make = make\n",
    "        self.model = model\n",
    "        self.year = year\n",
    "\n",
    "    def start_engine(self):\n",
    "        print(\"Engine started.\")\n",
    "\n",
    "    def stop_engine(self):\n",
    "        print(\"Engine stopped.\")\n",
    "\n",
    "\n",
    "\n",
    "# Create instances of the classes\n",
    "car = Car(\"Ford\", \"Mustang\", 2022)\n",
    "\n",
    "# Call the methods\n",
    "car.start_engine()\n",
    "car.stop_engine()"
   ]
  },
  {
   "cell_type": "code",
   "execution_count": null,
   "metadata": {},
   "outputs": [],
   "source": [
    "class ElectricCar(Car):\n",
    "    def __init__(self, make, model, year, battery_capacity):\n",
    "        super().__init__(make, model, year)\n",
    "        self.battery_capacity = battery_capacity\n",
    "\n",
    "    def charge_battery(self):\n",
    "        print(\"Battery charging.\")\n",
    "\n",
    "    def display_info(self):\n",
    "        print(\"--Displaying Info--\")\n",
    "        print(f\"Make: {self.make}\")\n",
    "        print(f\"Model: {self.model}\")\n",
    "        print(f\"Year: {self.year}\")\n",
    "        print(f\"Battery Capacity: {self.battery_capacity} kWh\")\n",
    "\n",
    "\n",
    "electric_car = ElectricCar(\"Tesla\", \"Model S\", 2022, 100)\n",
    "print(\"--------------\")\n",
    "electric_car.start_engine()\n",
    "electric_car.stop_engine()\n",
    "electric_car.charge_battery()\n",
    "print(\"--------------\")\n",
    "electric_car.display_info()"
   ]
  },
  {
   "cell_type": "code",
   "execution_count": null,
   "metadata": {},
   "outputs": [],
   "source": [
    "class Vehicle:\n",
    "    def __init__(self, make, model, year):\n",
    "        self.make = make\n",
    "        self.model = model\n",
    "        self.year = year\n",
    "\n",
    "\n",
    "class Car(Vehicle):\n",
    "    def __init__(self, make, model, year):\n",
    "        super().__init__(make, model, year)\n",
    "    def start_engine(self):\n",
    "        print(\"Engine started.\")\n",
    "\n",
    "    def stop_engine(self):\n",
    "        print(\"Engine stopped.\")\n",
    "\n",
    "\n",
    "class ElectricCar(Car):\n",
    "    def __init__(self, make, model, year, battery_capacity):\n",
    "        super().__init__(make, model, year)\n",
    "        self.battery_capacity = battery_capacity\n",
    "\n",
    "    def charge_battery(self):\n",
    "        print(\"Battery charging.\")\n",
    "\n",
    "    def display_info(self):\n",
    "        print(f\"Make: {self.make}\")\n",
    "        print(f\"Model: {self.model}\")\n",
    "        print(f\"Year: {self.year}\")\n",
    "        print(f\"Battery Capacity: {self.battery_capacity} kWh\")\n",
    "\n",
    "\n",
    "# Create instances of the classes\n",
    "car = Car(\"Ford\", \"Mustang\", 2022)\n",
    "electric_car = ElectricCar(\"Tesla\", \"Model S\", 2022, 100)\n",
    "\n",
    "# Call the methods\n",
    "car.start_engine()\n",
    "car.stop_engine()\n",
    "print(\"--------------\")\n",
    "electric_car.start_engine()\n",
    "electric_car.stop_engine()\n",
    "electric_car.charge_battery()\n",
    "print(\"--------------\")\n",
    "electric_car.display_info()"
   ]
  },
  {
   "cell_type": "markdown",
   "metadata": {},
   "source": [
    "#### Polymorphism\n",
    "1. Method Overriding:  A method in a subclass with the same name as a method in its superclass. This allows the subclass to provide its own implementation of the method. "
   ]
  },
  {
   "cell_type": "code",
   "execution_count": null,
   "metadata": {},
   "outputs": [],
   "source": [
    "class rty:\n",
    "  def run(self):\n",
    "    print(\"Am running!!\")\n",
    "class ttt(rty):\n",
    "  def run(self):\n",
    "    print(\"No am walking\")\n",
    "t=ttt()\n",
    "t.run()"
   ]
  },
  {
   "cell_type": "markdown",
   "metadata": {},
   "source": [
    "2. Duck typing: \n",
    "- It is a principle in Python that focuses on an object's behavior rather than its type.\n",
    "- It allows you to use objects of different classes interchangeably as long as they implement the required methods or attributes. "
   ]
  },
  {
   "cell_type": "code",
   "execution_count": null,
   "metadata": {},
   "outputs": [],
   "source": [
    "class Duck:\n",
    "    def quack(self):\n",
    "        print(\"Quack!\")\n",
    "\n",
    "    def fly(self):\n",
    "        print(\"Duck is flying!\")\n",
    "\n",
    "\n",
    "class Airplane:\n",
    "    def fly(self):\n",
    "        print(\"Airplane is flying!\")\n",
    "\n",
    "\n",
    "def make_it_fly(obj):\n",
    "    obj.fly()\n",
    "\n",
    "\n",
    "duck = Duck()\n",
    "airplane = Airplane()\n",
    "\n",
    "make_it_fly(duck)      # Output: Duck is flying!\n",
    "make_it_fly(airplane)  # Output: Airplane is flying!"
   ]
  },
  {
   "cell_type": "markdown",
   "metadata": {},
   "source": [
    "3. Method overloading\n",
    "- Python doesn't allow overloading, however there are ways to achieve same functionality"
   ]
  },
  {
   "cell_type": "code",
   "execution_count": null,
   "metadata": {},
   "outputs": [],
   "source": [
    "class MyClass:\n",
    "    def my_method(self, *args):\n",
    "        if len(args) == 1:\n",
    "            # Handle case with one parameter\n",
    "            print(f\"Number entered is: {args[0]}\")\n",
    "        elif len(args) == 2:\n",
    "            x = args[0]\n",
    "            y = args[1]\n",
    "            sumd = x + y\n",
    "            print(f\"Sum of two numbers is {sumd}\")\n",
    "        else:\n",
    "            raise ValueError(\"Too many arguments! Only one or two arguments are allowed.\")\n",
    "\n",
    "obj = MyClass()\n",
    "obj.my_method(10)\n",
    "obj.my_method(20, 30) \n",
    "obj.my_method(40, 50, 60, 70) "
   ]
  },
  {
   "cell_type": "code",
   "execution_count": null,
   "metadata": {},
   "outputs": [],
   "source": [
    "def my_function(*args):\n",
    "    for arg in args:\n",
    "        print(arg)\n",
    "\n",
    "my_function(\"apple\", \"banana\", \"cherry\")"
   ]
  },
  {
   "cell_type": "markdown",
   "metadata": {},
   "source": [
    "#### Encapsulation\n",
    "- It is the principle of bundling data (attributes) and methods (functions) together within a class, and restricting direct access to some of the class's components and modification."
   ]
  },
  {
   "cell_type": "markdown",
   "metadata": {},
   "source": [
    "1. Protected\n",
    "- Refers to members of the class that cannot be accessed outside the class but can be accessed from within the class and its subclasses. "
   ]
  },
  {
   "cell_type": "code",
   "execution_count": null,
   "metadata": {},
   "outputs": [],
   "source": [
    "#To accomplish protected start by prefixing the name of the member by a single underscore “_”.\n",
    "\n",
    "\n",
    "class Base: \n",
    "\tdef __init__(self): \n",
    "\n",
    "\t\tself._a = 2\n",
    "\n",
    "class Derived(Base): \n",
    "\tdef __init__(self): \n",
    "\n",
    "\t\tBase.__init__(self) \n",
    "\t\tprint(\"Calling protected member of base class: \", \n",
    "\t\t\tself._a) \n",
    "\t\tself._a = 3\n",
    "\t\tprint(\"Calling modified protected member outside class: \", \n",
    "\t\t\tself._a) \n",
    "\n",
    "\n",
    "obj1 = Derived() \n",
    "\n",
    "obj2 = Base() \n",
    "\n",
    "print(\"Accessing protected member of obj1: \", obj1._a) \n",
    "\n",
    "print(\"Accessing protected member of obj2: \", obj2._a) \n"
   ]
  },
  {
   "cell_type": "markdown",
   "metadata": {},
   "source": [
    "2. Private\n",
    "-  class members declared private should neither be accessed outside the class nor by any base class. \n",
    "- In Python, there is no existence of Private instance variables that cannot be accessed except inside a class.\n",
    "- Defined by __ double underscores."
   ]
  },
  {
   "cell_type": "code",
   "execution_count": 2,
   "metadata": {},
   "outputs": [
    {
     "name": "stdout",
     "output_type": "stream",
     "text": [
      "GeeksforGeeks\n"
     ]
    }
   ],
   "source": [
    "# Python program to \n",
    "# demonstrate private members \n",
    "\n",
    "# Creating a Base class \n",
    "\n",
    "\n",
    "class Base: \n",
    "\tdef __init__(self): \n",
    "\t\tself.a = \"GeeksforGeeks\"\n",
    "\t\tself.__c = \"GeeksforGeeks\"\n",
    "\n",
    "# Creating a derived class \n",
    "class Derived(Base): \n",
    "\tdef __init__(self): \n",
    "\n",
    "\t\t# Calling constructor of \n",
    "\t\t# Base class \n",
    "\t\tBase.__init__(self) \n",
    "\t\tprint(\"Calling private member of base class: \") \n",
    "\t\tprint(self.__c) \n",
    "\n",
    "\n",
    "# Driver code \n",
    "obj1 = Base() \n",
    "print(obj1.a) \n",
    "\n",
    "# Uncommenting print(obj1.c) will \n",
    "# raise an AttributeError \n",
    "\n",
    "# Uncommenting obj2 = Derived() will \n",
    "# also raise an AttributeError as \n",
    "# private member of base class \n",
    "# is called inside derived class \n"
   ]
  },
  {
   "cell_type": "code",
   "execution_count": 3,
   "metadata": {},
   "outputs": [
    {
     "name": "stdout",
     "output_type": "stream",
     "text": [
      "Booting...\n",
      "Processor speed: 1.8GHz\n",
      "Hard disk size: 500GB\n"
     ]
    }
   ],
   "source": [
    "# Composition is a principle in (OOP) that allows objects to be composed of other objects as part of their internal structure.\n",
    "class Processor:\n",
    "    def __init__(self, manufacturer, speed):\n",
    "        # assign values to the instance variables\n",
    "        self.manufacturer = manufacturer\n",
    "        self.speed = speed\n",
    "    \n",
    "    def get_manufacturer(self):\n",
    "        # return the manufacturer\n",
    "        return self.manufacturer\n",
    "    \n",
    "    def get_speed(self):\n",
    "        # return the speed\n",
    "        return self.speed\n",
    "    \n",
    "    def boot(self):\n",
    "        # boot the processor\n",
    "        print(\"Booting...\")\n",
    "\n",
    "class HardDisk:\n",
    "    def __init__(self, capacity):\n",
    "        self.capacity = capacity\n",
    "    \n",
    "    def get_capacity(self):\n",
    "        # return capacity\n",
    "        return self.capacity\n",
    "\n",
    "class Computer:\n",
    "    def __init__(self, make, processor, hdd):\n",
    "        # assign values to the instance variables\n",
    "        self.make = make\n",
    "        self.processor = processor\n",
    "        self.hdd = hdd\n",
    "    \n",
    "    def boot_computer(self):\n",
    "        # call the boot method of the Processor class\n",
    "        self.processor.boot()\n",
    "    \n",
    "    def get_hdd_size(self):\n",
    "        # call the get_capacity method of the HardDisk class\n",
    "        print(\"Hard disk size: \" + self.hdd.get_capacity())\n",
    "    \n",
    "    def get_processor_speed(self):\n",
    "        # call the get_speed method of the processor\n",
    "        print(\"Processor speed: \" + self.processor.get_speed())\n",
    "\n",
    "# instantiating the Processor object\n",
    "processor = Processor(\"Intel\", \"1.8GHz\")\n",
    "\n",
    "# instantiating the HardDisk object\n",
    "hdd = HardDisk(\"500GB\")\n",
    "\n",
    "# instantiating the Computer object\n",
    "comp = Computer(\"HP\", processor, hdd)\n",
    "\n",
    "# Accessing the methods of the Computer Class\n",
    "comp.boot_computer()\n",
    "comp.get_processor_speed()\n",
    "comp.get_hdd_size()"
   ]
  },
  {
   "cell_type": "code",
   "execution_count": null,
   "metadata": {},
   "outputs": [],
   "source": [
    "class Engine:\n",
    "    def start(self):\n",
    "        print(\"Engine started.\")\n",
    "\n",
    "    def stop(self):\n",
    "        print(\"Engine stopped.\")\n",
    "\n",
    "\n",
    "class Car:\n",
    "    def __init__(self):\n",
    "        self.engine = Engine()  # Composition: Car has an Engine instance\n",
    "\n",
    "    def start(self):\n",
    "        print(\"Car starting...\")\n",
    "        self.engine.start()\n",
    "\n",
    "    def stop(self):\n",
    "        print(\"Car stopping...\")\n",
    "        self.engine.stop()\n",
    "\n",
    "\n",
    "my_car = Car()\n",
    "my_car.start()\n",
    "my_car.stop()"
   ]
  }
 ],
 "metadata": {
  "kernelspec": {
   "display_name": "Python 3",
   "language": "python",
   "name": "python3"
  },
  "language_info": {
   "codemirror_mode": {
    "name": "ipython",
    "version": 3
   },
   "file_extension": ".py",
   "mimetype": "text/x-python",
   "name": "python",
   "nbconvert_exporter": "python",
   "pygments_lexer": "ipython3",
   "version": "3.12.2"
  }
 },
 "nbformat": 4,
 "nbformat_minor": 2
}
